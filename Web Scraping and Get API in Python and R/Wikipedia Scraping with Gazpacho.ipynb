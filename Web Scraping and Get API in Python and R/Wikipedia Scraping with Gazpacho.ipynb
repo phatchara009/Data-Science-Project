{
 "cells": [
  {
   "cell_type": "code",
   "execution_count": 7,
   "metadata": {},
   "outputs": [],
   "source": [
    "# # install gazpacho on our machine\n",
    "# !pip install gazpacho"
   ]
  },
  {
   "cell_type": "code",
   "execution_count": 1,
   "metadata": {},
   "outputs": [],
   "source": [
    "# import library\n",
    "import gazpacho as gz\n",
    "import requests\n",
    "import pandas as pd"
   ]
  },
  {
   "cell_type": "code",
   "execution_count": 2,
   "metadata": {},
   "outputs": [
    {
     "data": {
      "text/plain": [
       "200"
      ]
     },
     "execution_count": 2,
     "metadata": {},
     "output_type": "execute_result"
    }
   ],
   "source": [
    "url = \"https://en.wikipedia.org/wiki/List_of_plants_used_in_herbalism\"\n",
    "response = requests.get(url)\n",
    "response.status_code"
   ]
  },
  {
   "cell_type": "code",
   "execution_count": 3,
   "metadata": {},
   "outputs": [],
   "source": [
    "web = gz.Soup(response.text)\n",
    "tables = web.find(\"table\", {\"class\": \"wikitable\"})"
   ]
  },
  {
   "cell_type": "code",
   "execution_count": 5,
   "metadata": {},
   "outputs": [
    {
     "name": "stdout",
     "output_type": "stream",
     "text": [
      "['Scientific name', 'Common name', 'Description']\n"
     ]
    }
   ],
   "source": [
    "# Exclude Picture title.\n",
    "titles = [header.text for header in tables[0].find('th')][:3]\n",
    "print(titles)"
   ]
  },
  {
   "cell_type": "code",
   "execution_count": 12,
   "metadata": {},
   "outputs": [],
   "source": [
    "def parse(plant):\n",
    "    sci_name = plant.find('td')[0].strip()\n",
    "    common_name = plant.find('td')[1].strip()\n",
    "    des = plant.find('td')[2].strip()\n",
    "    return [sci_name, common_name, des]\n",
    "\n",
    "df = pd.DataFrame(columns=titles)\n",
    "\n",
    "for table in tables:\n",
    "    plants = table.find('tr')[1:]\n",
    "    rows = [parse(plant) for plant in plants]\n",
    "    new_df = pd.DataFrame(rows, columns=titles)\n",
    "    df = pd.concat([df, new_df])\n",
    "    \n",
    "df.reset_index(drop=True, inplace=True)"
   ]
  },
  {
   "cell_type": "code",
   "execution_count": 13,
   "metadata": {},
   "outputs": [
    {
     "data": {
      "text/html": [
       "<div>\n",
       "<style scoped>\n",
       "    .dataframe tbody tr th:only-of-type {\n",
       "        vertical-align: middle;\n",
       "    }\n",
       "\n",
       "    .dataframe tbody tr th {\n",
       "        vertical-align: top;\n",
       "    }\n",
       "\n",
       "    .dataframe thead th {\n",
       "        text-align: right;\n",
       "    }\n",
       "</style>\n",
       "<table border=\"1\" class=\"dataframe\">\n",
       "  <thead>\n",
       "    <tr style=\"text-align: right;\">\n",
       "      <th></th>\n",
       "      <th>Scientific name</th>\n",
       "      <th>Common name</th>\n",
       "      <th>Description</th>\n",
       "    </tr>\n",
       "  </thead>\n",
       "  <tbody>\n",
       "    <tr>\n",
       "      <th>158</th>\n",
       "      <td>Vitis vinifera</td>\n",
       "      <td>Grape</td>\n",
       "      <td>The leaves and fruit have been used medicinall...</td>\n",
       "    </tr>\n",
       "    <tr>\n",
       "      <th>159</th>\n",
       "      <td>Withania somnifera</td>\n",
       "      <td>Ashwagandha</td>\n",
       "      <td>The plant's long, brown, tuberous roots are us...</td>\n",
       "    </tr>\n",
       "    <tr>\n",
       "      <th>160</th>\n",
       "      <td>Xanthoparmelia scabrosa</td>\n",
       "      <td>Sexy footpath lichen</td>\n",
       "      <td>It is a lichen used for sexual dysfunction.[182]</td>\n",
       "    </tr>\n",
       "    <tr>\n",
       "      <th>161</th>\n",
       "      <td>Youngia japonica</td>\n",
       "      <td>Japanese hawkweed</td>\n",
       "      <td>The plant is antitussive and febrifuge. It is ...</td>\n",
       "    </tr>\n",
       "    <tr>\n",
       "      <th>162</th>\n",
       "      <td>Zingiber officinale</td>\n",
       "      <td>Ginger</td>\n",
       "      <td>Ginger is effective for the relief of nausea.[...</td>\n",
       "    </tr>\n",
       "  </tbody>\n",
       "</table>\n",
       "</div>"
      ],
      "text/plain": [
       "             Scientific name           Common name  \\\n",
       "158           Vitis vinifera                 Grape   \n",
       "159       Withania somnifera           Ashwagandha   \n",
       "160  Xanthoparmelia scabrosa  Sexy footpath lichen   \n",
       "161         Youngia japonica     Japanese hawkweed   \n",
       "162      Zingiber officinale                Ginger   \n",
       "\n",
       "                                           Description  \n",
       "158  The leaves and fruit have been used medicinall...  \n",
       "159  The plant's long, brown, tuberous roots are us...  \n",
       "160   It is a lichen used for sexual dysfunction.[182]  \n",
       "161  The plant is antitussive and febrifuge. It is ...  \n",
       "162  Ginger is effective for the relief of nausea.[...  "
      ]
     },
     "execution_count": 13,
     "metadata": {},
     "output_type": "execute_result"
    }
   ],
   "source": [
    "df.tail()"
   ]
  },
  {
   "cell_type": "code",
   "execution_count": 14,
   "metadata": {},
   "outputs": [],
   "source": [
    "df.to_csv(\"data/plants_used_in_herbalism.csv\")"
   ]
  }
 ],
 "metadata": {
  "kernelspec": {
   "display_name": "base",
   "language": "python",
   "name": "python3"
  },
  "language_info": {
   "codemirror_mode": {
    "name": "ipython",
    "version": 3
   },
   "file_extension": ".py",
   "mimetype": "text/x-python",
   "name": "python",
   "nbconvert_exporter": "python",
   "pygments_lexer": "ipython3",
   "version": "3.11.5"
  }
 },
 "nbformat": 4,
 "nbformat_minor": 2
}
