{
 "cells": [
  {
   "attachments": {},
   "cell_type": "markdown",
   "metadata": {
    "datalore": {
     "hide_input_from_viewers": false,
     "hide_output_from_viewers": false,
     "node_id": "hDHrimXuBjJXvKf9q4JDsF",
     "report_properties": {
      "rowId": "r0bh7XpW2PETFMLwY4UWu9"
     },
     "type": "MD"
    }
   },
   "source": [
    "# Project - Analyzing Sales Data\n",
    "\n",
    "**Author**: Phatchara Soroschokchai (Folk)\n",
    "\n",
    "**Course**: `Pandas Foundation`"
   ]
  },
  {
   "cell_type": "code",
   "execution_count": 2,
   "metadata": {
    "datalore": {
     "hide_input_from_viewers": false,
     "hide_output_from_viewers": false,
     "node_id": "12pVHkAjVuwiBkXU7M9Efx",
     "report_properties": {
      "rowId": "DJSP6JwZHjIZEEmqUKHKmJ"
     },
     "type": "CODE"
    }
   },
   "outputs": [],
   "source": [
    "# import data\n",
    "import pandas as pd\n",
    "import numpy as np\n",
    "import datetime\n",
    "df = pd.read_csv(\"data/sample-store.csv\")"
   ]
  },
  {
   "cell_type": "code",
   "execution_count": 3,
   "metadata": {
    "datalore": {
     "hide_input_from_viewers": false,
     "hide_output_from_viewers": false,
     "node_id": "3gBzJYCD73CUyq0GegDh7s",
     "report_properties": {
      "rowId": "KIoIDRFLNetXd0kmDaLke5"
     },
     "type": "CODE"
    }
   },
   "outputs": [
    {
     "data": {
      "text/html": [
       "<div>\n",
       "<style scoped>\n",
       "    .dataframe tbody tr th:only-of-type {\n",
       "        vertical-align: middle;\n",
       "    }\n",
       "\n",
       "    .dataframe tbody tr th {\n",
       "        vertical-align: top;\n",
       "    }\n",
       "\n",
       "    .dataframe thead th {\n",
       "        text-align: right;\n",
       "    }\n",
       "</style>\n",
       "<table border=\"1\" class=\"dataframe\">\n",
       "  <thead>\n",
       "    <tr style=\"text-align: right;\">\n",
       "      <th></th>\n",
       "      <th>Row ID</th>\n",
       "      <th>Order ID</th>\n",
       "      <th>Order Date</th>\n",
       "      <th>Ship Date</th>\n",
       "      <th>Ship Mode</th>\n",
       "      <th>Customer ID</th>\n",
       "      <th>Customer Name</th>\n",
       "      <th>Segment</th>\n",
       "      <th>Country/Region</th>\n",
       "      <th>City</th>\n",
       "      <th>...</th>\n",
       "      <th>Postal Code</th>\n",
       "      <th>Region</th>\n",
       "      <th>Product ID</th>\n",
       "      <th>Category</th>\n",
       "      <th>Sub-Category</th>\n",
       "      <th>Product Name</th>\n",
       "      <th>Sales</th>\n",
       "      <th>Quantity</th>\n",
       "      <th>Discount</th>\n",
       "      <th>Profit</th>\n",
       "    </tr>\n",
       "  </thead>\n",
       "  <tbody>\n",
       "    <tr>\n",
       "      <th>9989</th>\n",
       "      <td>9990</td>\n",
       "      <td>CA-2017-110422</td>\n",
       "      <td>1/21/2017</td>\n",
       "      <td>1/23/2017</td>\n",
       "      <td>Second Class</td>\n",
       "      <td>TB-21400</td>\n",
       "      <td>Tom Boeckenhauer</td>\n",
       "      <td>Consumer</td>\n",
       "      <td>United States</td>\n",
       "      <td>Miami</td>\n",
       "      <td>...</td>\n",
       "      <td>33180.0</td>\n",
       "      <td>South</td>\n",
       "      <td>FUR-FU-10001889</td>\n",
       "      <td>Furniture</td>\n",
       "      <td>Furnishings</td>\n",
       "      <td>Ultra Door Pull Handle</td>\n",
       "      <td>25.248</td>\n",
       "      <td>3</td>\n",
       "      <td>0.2</td>\n",
       "      <td>4.1028</td>\n",
       "    </tr>\n",
       "    <tr>\n",
       "      <th>9990</th>\n",
       "      <td>9991</td>\n",
       "      <td>CA-2020-121258</td>\n",
       "      <td>2/26/2020</td>\n",
       "      <td>3/3/2020</td>\n",
       "      <td>Standard Class</td>\n",
       "      <td>DB-13060</td>\n",
       "      <td>Dave Brooks</td>\n",
       "      <td>Consumer</td>\n",
       "      <td>United States</td>\n",
       "      <td>Costa Mesa</td>\n",
       "      <td>...</td>\n",
       "      <td>92627.0</td>\n",
       "      <td>West</td>\n",
       "      <td>FUR-FU-10000747</td>\n",
       "      <td>Furniture</td>\n",
       "      <td>Furnishings</td>\n",
       "      <td>Tenex B1-RE Series Chair Mats for Low Pile Car...</td>\n",
       "      <td>91.960</td>\n",
       "      <td>2</td>\n",
       "      <td>0.0</td>\n",
       "      <td>15.6332</td>\n",
       "    </tr>\n",
       "    <tr>\n",
       "      <th>9991</th>\n",
       "      <td>9992</td>\n",
       "      <td>CA-2020-121258</td>\n",
       "      <td>2/26/2020</td>\n",
       "      <td>3/3/2020</td>\n",
       "      <td>Standard Class</td>\n",
       "      <td>DB-13060</td>\n",
       "      <td>Dave Brooks</td>\n",
       "      <td>Consumer</td>\n",
       "      <td>United States</td>\n",
       "      <td>Costa Mesa</td>\n",
       "      <td>...</td>\n",
       "      <td>92627.0</td>\n",
       "      <td>West</td>\n",
       "      <td>TEC-PH-10003645</td>\n",
       "      <td>Technology</td>\n",
       "      <td>Phones</td>\n",
       "      <td>Aastra 57i VoIP phone</td>\n",
       "      <td>258.576</td>\n",
       "      <td>2</td>\n",
       "      <td>0.2</td>\n",
       "      <td>19.3932</td>\n",
       "    </tr>\n",
       "    <tr>\n",
       "      <th>9992</th>\n",
       "      <td>9993</td>\n",
       "      <td>CA-2020-121258</td>\n",
       "      <td>2/26/2020</td>\n",
       "      <td>3/3/2020</td>\n",
       "      <td>Standard Class</td>\n",
       "      <td>DB-13060</td>\n",
       "      <td>Dave Brooks</td>\n",
       "      <td>Consumer</td>\n",
       "      <td>United States</td>\n",
       "      <td>Costa Mesa</td>\n",
       "      <td>...</td>\n",
       "      <td>92627.0</td>\n",
       "      <td>West</td>\n",
       "      <td>OFF-PA-10004041</td>\n",
       "      <td>Office Supplies</td>\n",
       "      <td>Paper</td>\n",
       "      <td>It's Hot Message Books with Stickers, 2 3/4\" x 5\"</td>\n",
       "      <td>29.600</td>\n",
       "      <td>4</td>\n",
       "      <td>0.0</td>\n",
       "      <td>13.3200</td>\n",
       "    </tr>\n",
       "    <tr>\n",
       "      <th>9993</th>\n",
       "      <td>9994</td>\n",
       "      <td>CA-2020-119914</td>\n",
       "      <td>5/4/2020</td>\n",
       "      <td>5/9/2020</td>\n",
       "      <td>Second Class</td>\n",
       "      <td>CC-12220</td>\n",
       "      <td>Chris Cortes</td>\n",
       "      <td>Consumer</td>\n",
       "      <td>United States</td>\n",
       "      <td>Westminster</td>\n",
       "      <td>...</td>\n",
       "      <td>92683.0</td>\n",
       "      <td>West</td>\n",
       "      <td>OFF-AP-10002684</td>\n",
       "      <td>Office Supplies</td>\n",
       "      <td>Appliances</td>\n",
       "      <td>Acco 7-Outlet Masterpiece Power Center, Wihtou...</td>\n",
       "      <td>243.160</td>\n",
       "      <td>2</td>\n",
       "      <td>0.0</td>\n",
       "      <td>72.9480</td>\n",
       "    </tr>\n",
       "  </tbody>\n",
       "</table>\n",
       "<p>5 rows × 21 columns</p>\n",
       "</div>"
      ],
      "text/plain": [
       "      Row ID        Order ID Order Date  Ship Date       Ship Mode  \\\n",
       "9989    9990  CA-2017-110422  1/21/2017  1/23/2017    Second Class   \n",
       "9990    9991  CA-2020-121258  2/26/2020   3/3/2020  Standard Class   \n",
       "9991    9992  CA-2020-121258  2/26/2020   3/3/2020  Standard Class   \n",
       "9992    9993  CA-2020-121258  2/26/2020   3/3/2020  Standard Class   \n",
       "9993    9994  CA-2020-119914   5/4/2020   5/9/2020    Second Class   \n",
       "\n",
       "     Customer ID     Customer Name   Segment Country/Region         City  ...  \\\n",
       "9989    TB-21400  Tom Boeckenhauer  Consumer  United States        Miami  ...   \n",
       "9990    DB-13060       Dave Brooks  Consumer  United States   Costa Mesa  ...   \n",
       "9991    DB-13060       Dave Brooks  Consumer  United States   Costa Mesa  ...   \n",
       "9992    DB-13060       Dave Brooks  Consumer  United States   Costa Mesa  ...   \n",
       "9993    CC-12220      Chris Cortes  Consumer  United States  Westminster  ...   \n",
       "\n",
       "     Postal Code  Region       Product ID         Category Sub-Category  \\\n",
       "9989     33180.0   South  FUR-FU-10001889        Furniture  Furnishings   \n",
       "9990     92627.0    West  FUR-FU-10000747        Furniture  Furnishings   \n",
       "9991     92627.0    West  TEC-PH-10003645       Technology       Phones   \n",
       "9992     92627.0    West  OFF-PA-10004041  Office Supplies        Paper   \n",
       "9993     92683.0    West  OFF-AP-10002684  Office Supplies   Appliances   \n",
       "\n",
       "                                           Product Name    Sales  Quantity  \\\n",
       "9989                             Ultra Door Pull Handle   25.248         3   \n",
       "9990  Tenex B1-RE Series Chair Mats for Low Pile Car...   91.960         2   \n",
       "9991                              Aastra 57i VoIP phone  258.576         2   \n",
       "9992  It's Hot Message Books with Stickers, 2 3/4\" x 5\"   29.600         4   \n",
       "9993  Acco 7-Outlet Masterpiece Power Center, Wihtou...  243.160         2   \n",
       "\n",
       "      Discount   Profit  \n",
       "9989       0.2   4.1028  \n",
       "9990       0.0  15.6332  \n",
       "9991       0.2  19.3932  \n",
       "9992       0.0  13.3200  \n",
       "9993       0.0  72.9480  \n",
       "\n",
       "[5 rows x 21 columns]"
      ]
     },
     "execution_count": 3,
     "metadata": {},
     "output_type": "execute_result"
    }
   ],
   "source": [
    "# preview top 5 rows\n",
    "df.tail()"
   ]
  },
  {
   "cell_type": "code",
   "execution_count": 4,
   "metadata": {
    "datalore": {
     "hide_input_from_viewers": false,
     "hide_output_from_viewers": false,
     "node_id": "ms3oqDd8OT0of8IUnWz2nV",
     "report_properties": {
      "rowId": "404bRHx2yHPcb627BGFnGZ"
     },
     "type": "CODE"
    }
   },
   "outputs": [
    {
     "data": {
      "text/plain": [
       "(9994, 21)"
      ]
     },
     "execution_count": 4,
     "metadata": {},
     "output_type": "execute_result"
    }
   ],
   "source": [
    "# shape of dataframe\n",
    "df.shape"
   ]
  },
  {
   "attachments": {},
   "cell_type": "markdown",
   "metadata": {
    "datalore": {
     "hide_input_from_viewers": false,
     "hide_output_from_viewers": false,
     "node_id": "lXaHQfh5hmqEbILSNgmxmu",
     "report_properties": {
      "rowId": "bifgaR9eDRqC7rV3IdnV7n"
     },
     "type": "MD"
    }
   },
   "source": [
    "We can use `pd.to_datetime()` function to convert columns 'Order Date' and 'Ship Date' to datetime."
   ]
  },
  {
   "cell_type": "code",
   "execution_count": 5,
   "metadata": {
    "datalore": {
     "hide_input_from_viewers": false,
     "hide_output_from_viewers": false,
     "node_id": "bFTiSRQ4J3bDpVjVKX7f6F",
     "report_properties": {
      "rowId": "BlhHwMmuvn69NwH28sZP8K"
     },
     "type": "CODE"
    }
   },
   "outputs": [],
   "source": [
    "# Convert order date and ship date to datetime in the original dataframe\n",
    "df['Order Date'] = pd.to_datetime(df['Order Date'], format='%m/%d/%Y')\n",
    "df['Ship Date'] = pd.to_datetime(df['Ship Date'], format='%m/%d/%Y')"
   ]
  },
  {
   "cell_type": "code",
   "execution_count": 6,
   "metadata": {
    "datalore": {
     "hide_input_from_viewers": false,
     "hide_output_from_viewers": false,
     "node_id": "p2niVhtwy1QlmkYUWpw671",
     "report_properties": {
      "rowId": "WwHhMQRPqNr5KZLvOFjLet"
     },
     "type": "CODE"
    }
   },
   "outputs": [
    {
     "name": "stdout",
     "output_type": "stream",
     "text": [
      "<class 'pandas.core.frame.DataFrame'>\n",
      "RangeIndex: 9994 entries, 0 to 9993\n",
      "Data columns (total 21 columns):\n",
      " #   Column          Non-Null Count  Dtype         \n",
      "---  ------          --------------  -----         \n",
      " 0   Row ID          9994 non-null   int64         \n",
      " 1   Order ID        9994 non-null   object        \n",
      " 2   Order Date      9994 non-null   datetime64[ns]\n",
      " 3   Ship Date       9994 non-null   datetime64[ns]\n",
      " 4   Ship Mode       9994 non-null   object        \n",
      " 5   Customer ID     9994 non-null   object        \n",
      " 6   Customer Name   9994 non-null   object        \n",
      " 7   Segment         9994 non-null   object        \n",
      " 8   Country/Region  9994 non-null   object        \n",
      " 9   City            9994 non-null   object        \n",
      " 10  State           9994 non-null   object        \n",
      " 11  Postal Code     9983 non-null   float64       \n",
      " 12  Region          9994 non-null   object        \n",
      " 13  Product ID      9994 non-null   object        \n",
      " 14  Category        9994 non-null   object        \n",
      " 15  Sub-Category    9994 non-null   object        \n",
      " 16  Product Name    9994 non-null   object        \n",
      " 17  Sales           9994 non-null   float64       \n",
      " 18  Quantity        9994 non-null   int64         \n",
      " 19  Discount        9994 non-null   float64       \n",
      " 20  Profit          9994 non-null   float64       \n",
      "dtypes: datetime64[ns](2), float64(4), int64(2), object(13)\n",
      "memory usage: 1.6+ MB\n"
     ]
    }
   ],
   "source": [
    "# See data frame information using .info()\n",
    "df.info()"
   ]
  },
  {
   "cell_type": "code",
   "execution_count": 7,
   "metadata": {
    "datalore": {
     "hide_input_from_viewers": false,
     "hide_output_from_viewers": false,
     "node_id": "NGcYeTJPdrsrDpPjRL0kxs",
     "report_properties": {
      "rowId": "CtXbNrKg9BrSTG8ZAgiZ9K"
     },
     "type": "CODE"
    }
   },
   "outputs": [
    {
     "data": {
      "text/plain": [
       "11"
      ]
     },
     "execution_count": 7,
     "metadata": {},
     "output_type": "execute_result"
    }
   ],
   "source": [
    "# Count NAN in postal code column\n",
    "df['Postal Code'].isna().sum()"
   ]
  },
  {
   "cell_type": "code",
   "execution_count": 8,
   "metadata": {
    "datalore": {
     "hide_input_from_viewers": false,
     "hide_output_from_viewers": false,
     "node_id": "SXiih4Nad6vf2t2bT94sDg",
     "report_properties": {
      "rowId": "vPQYQUyAJ3tPPH6M8evZdf"
     },
     "type": "CODE"
    }
   },
   "outputs": [
    {
     "data": {
      "text/html": [
       "<div>\n",
       "<style scoped>\n",
       "    .dataframe tbody tr th:only-of-type {\n",
       "        vertical-align: middle;\n",
       "    }\n",
       "\n",
       "    .dataframe tbody tr th {\n",
       "        vertical-align: top;\n",
       "    }\n",
       "\n",
       "    .dataframe thead th {\n",
       "        text-align: right;\n",
       "    }\n",
       "</style>\n",
       "<table border=\"1\" class=\"dataframe\">\n",
       "  <thead>\n",
       "    <tr style=\"text-align: right;\">\n",
       "      <th></th>\n",
       "      <th>Row ID</th>\n",
       "      <th>Order ID</th>\n",
       "      <th>Order Date</th>\n",
       "      <th>Ship Date</th>\n",
       "      <th>Ship Mode</th>\n",
       "      <th>Customer ID</th>\n",
       "      <th>Customer Name</th>\n",
       "      <th>Segment</th>\n",
       "      <th>Country/Region</th>\n",
       "      <th>City</th>\n",
       "      <th>...</th>\n",
       "      <th>Postal Code</th>\n",
       "      <th>Region</th>\n",
       "      <th>Product ID</th>\n",
       "      <th>Category</th>\n",
       "      <th>Sub-Category</th>\n",
       "      <th>Product Name</th>\n",
       "      <th>Sales</th>\n",
       "      <th>Quantity</th>\n",
       "      <th>Discount</th>\n",
       "      <th>Profit</th>\n",
       "    </tr>\n",
       "  </thead>\n",
       "  <tbody>\n",
       "    <tr>\n",
       "      <th>2234</th>\n",
       "      <td>2235</td>\n",
       "      <td>CA-2020-104066</td>\n",
       "      <td>2020-12-05</td>\n",
       "      <td>2020-12-10</td>\n",
       "      <td>Standard Class</td>\n",
       "      <td>QJ-19255</td>\n",
       "      <td>Quincy Jones</td>\n",
       "      <td>Corporate</td>\n",
       "      <td>United States</td>\n",
       "      <td>Burlington</td>\n",
       "      <td>...</td>\n",
       "      <td>NaN</td>\n",
       "      <td>East</td>\n",
       "      <td>TEC-AC-10001013</td>\n",
       "      <td>Technology</td>\n",
       "      <td>Accessories</td>\n",
       "      <td>Logitech ClearChat Comfort/USB Headset H390</td>\n",
       "      <td>205.03</td>\n",
       "      <td>7</td>\n",
       "      <td>0.0</td>\n",
       "      <td>67.6599</td>\n",
       "    </tr>\n",
       "    <tr>\n",
       "      <th>5274</th>\n",
       "      <td>5275</td>\n",
       "      <td>CA-2018-162887</td>\n",
       "      <td>2018-11-07</td>\n",
       "      <td>2018-11-09</td>\n",
       "      <td>Second Class</td>\n",
       "      <td>SV-20785</td>\n",
       "      <td>Stewart Visinsky</td>\n",
       "      <td>Consumer</td>\n",
       "      <td>United States</td>\n",
       "      <td>Burlington</td>\n",
       "      <td>...</td>\n",
       "      <td>NaN</td>\n",
       "      <td>East</td>\n",
       "      <td>FUR-CH-10000595</td>\n",
       "      <td>Furniture</td>\n",
       "      <td>Chairs</td>\n",
       "      <td>Safco Contoured Stacking Chairs</td>\n",
       "      <td>715.20</td>\n",
       "      <td>3</td>\n",
       "      <td>0.0</td>\n",
       "      <td>178.8000</td>\n",
       "    </tr>\n",
       "    <tr>\n",
       "      <th>8798</th>\n",
       "      <td>8799</td>\n",
       "      <td>US-2019-150140</td>\n",
       "      <td>2019-04-06</td>\n",
       "      <td>2019-04-10</td>\n",
       "      <td>Standard Class</td>\n",
       "      <td>VM-21685</td>\n",
       "      <td>Valerie Mitchum</td>\n",
       "      <td>Home Office</td>\n",
       "      <td>United States</td>\n",
       "      <td>Burlington</td>\n",
       "      <td>...</td>\n",
       "      <td>NaN</td>\n",
       "      <td>East</td>\n",
       "      <td>TEC-PH-10002555</td>\n",
       "      <td>Technology</td>\n",
       "      <td>Phones</td>\n",
       "      <td>Nortel Meridian M5316 Digital phone</td>\n",
       "      <td>1294.75</td>\n",
       "      <td>5</td>\n",
       "      <td>0.0</td>\n",
       "      <td>336.6350</td>\n",
       "    </tr>\n",
       "    <tr>\n",
       "      <th>9146</th>\n",
       "      <td>9147</td>\n",
       "      <td>US-2019-165505</td>\n",
       "      <td>2019-01-23</td>\n",
       "      <td>2019-01-27</td>\n",
       "      <td>Standard Class</td>\n",
       "      <td>CB-12535</td>\n",
       "      <td>Claudia Bergmann</td>\n",
       "      <td>Corporate</td>\n",
       "      <td>United States</td>\n",
       "      <td>Burlington</td>\n",
       "      <td>...</td>\n",
       "      <td>NaN</td>\n",
       "      <td>East</td>\n",
       "      <td>TEC-AC-10002926</td>\n",
       "      <td>Technology</td>\n",
       "      <td>Accessories</td>\n",
       "      <td>Logitech Wireless Marathon Mouse M705</td>\n",
       "      <td>99.98</td>\n",
       "      <td>2</td>\n",
       "      <td>0.0</td>\n",
       "      <td>42.9914</td>\n",
       "    </tr>\n",
       "    <tr>\n",
       "      <th>9147</th>\n",
       "      <td>9148</td>\n",
       "      <td>US-2019-165505</td>\n",
       "      <td>2019-01-23</td>\n",
       "      <td>2019-01-27</td>\n",
       "      <td>Standard Class</td>\n",
       "      <td>CB-12535</td>\n",
       "      <td>Claudia Bergmann</td>\n",
       "      <td>Corporate</td>\n",
       "      <td>United States</td>\n",
       "      <td>Burlington</td>\n",
       "      <td>...</td>\n",
       "      <td>NaN</td>\n",
       "      <td>East</td>\n",
       "      <td>OFF-AR-10003477</td>\n",
       "      <td>Office Supplies</td>\n",
       "      <td>Art</td>\n",
       "      <td>4009 Highlighters</td>\n",
       "      <td>8.04</td>\n",
       "      <td>6</td>\n",
       "      <td>0.0</td>\n",
       "      <td>2.7336</td>\n",
       "    </tr>\n",
       "    <tr>\n",
       "      <th>9148</th>\n",
       "      <td>9149</td>\n",
       "      <td>US-2019-165505</td>\n",
       "      <td>2019-01-23</td>\n",
       "      <td>2019-01-27</td>\n",
       "      <td>Standard Class</td>\n",
       "      <td>CB-12535</td>\n",
       "      <td>Claudia Bergmann</td>\n",
       "      <td>Corporate</td>\n",
       "      <td>United States</td>\n",
       "      <td>Burlington</td>\n",
       "      <td>...</td>\n",
       "      <td>NaN</td>\n",
       "      <td>East</td>\n",
       "      <td>OFF-ST-10001526</td>\n",
       "      <td>Office Supplies</td>\n",
       "      <td>Storage</td>\n",
       "      <td>Iceberg Mobile Mega Data/Printer Cart</td>\n",
       "      <td>1564.29</td>\n",
       "      <td>13</td>\n",
       "      <td>0.0</td>\n",
       "      <td>406.7154</td>\n",
       "    </tr>\n",
       "    <tr>\n",
       "      <th>9386</th>\n",
       "      <td>9387</td>\n",
       "      <td>US-2020-127292</td>\n",
       "      <td>2020-01-19</td>\n",
       "      <td>2020-01-23</td>\n",
       "      <td>Standard Class</td>\n",
       "      <td>RM-19375</td>\n",
       "      <td>Raymond Messe</td>\n",
       "      <td>Consumer</td>\n",
       "      <td>United States</td>\n",
       "      <td>Burlington</td>\n",
       "      <td>...</td>\n",
       "      <td>NaN</td>\n",
       "      <td>East</td>\n",
       "      <td>OFF-PA-10000157</td>\n",
       "      <td>Office Supplies</td>\n",
       "      <td>Paper</td>\n",
       "      <td>Xerox 191</td>\n",
       "      <td>79.92</td>\n",
       "      <td>4</td>\n",
       "      <td>0.0</td>\n",
       "      <td>37.5624</td>\n",
       "    </tr>\n",
       "    <tr>\n",
       "      <th>9387</th>\n",
       "      <td>9388</td>\n",
       "      <td>US-2020-127292</td>\n",
       "      <td>2020-01-19</td>\n",
       "      <td>2020-01-23</td>\n",
       "      <td>Standard Class</td>\n",
       "      <td>RM-19375</td>\n",
       "      <td>Raymond Messe</td>\n",
       "      <td>Consumer</td>\n",
       "      <td>United States</td>\n",
       "      <td>Burlington</td>\n",
       "      <td>...</td>\n",
       "      <td>NaN</td>\n",
       "      <td>East</td>\n",
       "      <td>OFF-PA-10001970</td>\n",
       "      <td>Office Supplies</td>\n",
       "      <td>Paper</td>\n",
       "      <td>Xerox 1881</td>\n",
       "      <td>12.28</td>\n",
       "      <td>1</td>\n",
       "      <td>0.0</td>\n",
       "      <td>5.7716</td>\n",
       "    </tr>\n",
       "    <tr>\n",
       "      <th>9388</th>\n",
       "      <td>9389</td>\n",
       "      <td>US-2020-127292</td>\n",
       "      <td>2020-01-19</td>\n",
       "      <td>2020-01-23</td>\n",
       "      <td>Standard Class</td>\n",
       "      <td>RM-19375</td>\n",
       "      <td>Raymond Messe</td>\n",
       "      <td>Consumer</td>\n",
       "      <td>United States</td>\n",
       "      <td>Burlington</td>\n",
       "      <td>...</td>\n",
       "      <td>NaN</td>\n",
       "      <td>East</td>\n",
       "      <td>OFF-AP-10000828</td>\n",
       "      <td>Office Supplies</td>\n",
       "      <td>Appliances</td>\n",
       "      <td>Avanti 4.4 Cu. Ft. Refrigerator</td>\n",
       "      <td>542.94</td>\n",
       "      <td>3</td>\n",
       "      <td>0.0</td>\n",
       "      <td>152.0232</td>\n",
       "    </tr>\n",
       "    <tr>\n",
       "      <th>9389</th>\n",
       "      <td>9390</td>\n",
       "      <td>US-2020-127292</td>\n",
       "      <td>2020-01-19</td>\n",
       "      <td>2020-01-23</td>\n",
       "      <td>Standard Class</td>\n",
       "      <td>RM-19375</td>\n",
       "      <td>Raymond Messe</td>\n",
       "      <td>Consumer</td>\n",
       "      <td>United States</td>\n",
       "      <td>Burlington</td>\n",
       "      <td>...</td>\n",
       "      <td>NaN</td>\n",
       "      <td>East</td>\n",
       "      <td>OFF-EN-10001509</td>\n",
       "      <td>Office Supplies</td>\n",
       "      <td>Envelopes</td>\n",
       "      <td>Poly String Tie Envelopes</td>\n",
       "      <td>2.04</td>\n",
       "      <td>1</td>\n",
       "      <td>0.0</td>\n",
       "      <td>0.9588</td>\n",
       "    </tr>\n",
       "    <tr>\n",
       "      <th>9741</th>\n",
       "      <td>9742</td>\n",
       "      <td>CA-2018-117086</td>\n",
       "      <td>2018-11-08</td>\n",
       "      <td>2018-11-12</td>\n",
       "      <td>Standard Class</td>\n",
       "      <td>QJ-19255</td>\n",
       "      <td>Quincy Jones</td>\n",
       "      <td>Corporate</td>\n",
       "      <td>United States</td>\n",
       "      <td>Burlington</td>\n",
       "      <td>...</td>\n",
       "      <td>NaN</td>\n",
       "      <td>East</td>\n",
       "      <td>FUR-BO-10004834</td>\n",
       "      <td>Furniture</td>\n",
       "      <td>Bookcases</td>\n",
       "      <td>Riverside Palais Royal Lawyers Bookcase, Royal...</td>\n",
       "      <td>4404.90</td>\n",
       "      <td>5</td>\n",
       "      <td>0.0</td>\n",
       "      <td>1013.1270</td>\n",
       "    </tr>\n",
       "  </tbody>\n",
       "</table>\n",
       "<p>11 rows × 21 columns</p>\n",
       "</div>"
      ],
      "text/plain": [
       "      Row ID        Order ID Order Date  Ship Date       Ship Mode  \\\n",
       "2234    2235  CA-2020-104066 2020-12-05 2020-12-10  Standard Class   \n",
       "5274    5275  CA-2018-162887 2018-11-07 2018-11-09    Second Class   \n",
       "8798    8799  US-2019-150140 2019-04-06 2019-04-10  Standard Class   \n",
       "9146    9147  US-2019-165505 2019-01-23 2019-01-27  Standard Class   \n",
       "9147    9148  US-2019-165505 2019-01-23 2019-01-27  Standard Class   \n",
       "9148    9149  US-2019-165505 2019-01-23 2019-01-27  Standard Class   \n",
       "9386    9387  US-2020-127292 2020-01-19 2020-01-23  Standard Class   \n",
       "9387    9388  US-2020-127292 2020-01-19 2020-01-23  Standard Class   \n",
       "9388    9389  US-2020-127292 2020-01-19 2020-01-23  Standard Class   \n",
       "9389    9390  US-2020-127292 2020-01-19 2020-01-23  Standard Class   \n",
       "9741    9742  CA-2018-117086 2018-11-08 2018-11-12  Standard Class   \n",
       "\n",
       "     Customer ID     Customer Name      Segment Country/Region        City  \\\n",
       "2234    QJ-19255      Quincy Jones    Corporate  United States  Burlington   \n",
       "5274    SV-20785  Stewart Visinsky     Consumer  United States  Burlington   \n",
       "8798    VM-21685   Valerie Mitchum  Home Office  United States  Burlington   \n",
       "9146    CB-12535  Claudia Bergmann    Corporate  United States  Burlington   \n",
       "9147    CB-12535  Claudia Bergmann    Corporate  United States  Burlington   \n",
       "9148    CB-12535  Claudia Bergmann    Corporate  United States  Burlington   \n",
       "9386    RM-19375     Raymond Messe     Consumer  United States  Burlington   \n",
       "9387    RM-19375     Raymond Messe     Consumer  United States  Burlington   \n",
       "9388    RM-19375     Raymond Messe     Consumer  United States  Burlington   \n",
       "9389    RM-19375     Raymond Messe     Consumer  United States  Burlington   \n",
       "9741    QJ-19255      Quincy Jones    Corporate  United States  Burlington   \n",
       "\n",
       "      ... Postal Code  Region       Product ID         Category Sub-Category  \\\n",
       "2234  ...         NaN    East  TEC-AC-10001013       Technology  Accessories   \n",
       "5274  ...         NaN    East  FUR-CH-10000595        Furniture       Chairs   \n",
       "8798  ...         NaN    East  TEC-PH-10002555       Technology       Phones   \n",
       "9146  ...         NaN    East  TEC-AC-10002926       Technology  Accessories   \n",
       "9147  ...         NaN    East  OFF-AR-10003477  Office Supplies          Art   \n",
       "9148  ...         NaN    East  OFF-ST-10001526  Office Supplies      Storage   \n",
       "9386  ...         NaN    East  OFF-PA-10000157  Office Supplies        Paper   \n",
       "9387  ...         NaN    East  OFF-PA-10001970  Office Supplies        Paper   \n",
       "9388  ...         NaN    East  OFF-AP-10000828  Office Supplies   Appliances   \n",
       "9389  ...         NaN    East  OFF-EN-10001509  Office Supplies    Envelopes   \n",
       "9741  ...         NaN    East  FUR-BO-10004834        Furniture    Bookcases   \n",
       "\n",
       "                                           Product Name    Sales  Quantity  \\\n",
       "2234        Logitech ClearChat Comfort/USB Headset H390   205.03         7   \n",
       "5274                    Safco Contoured Stacking Chairs   715.20         3   \n",
       "8798                Nortel Meridian M5316 Digital phone  1294.75         5   \n",
       "9146              Logitech Wireless Marathon Mouse M705    99.98         2   \n",
       "9147                                  4009 Highlighters     8.04         6   \n",
       "9148              Iceberg Mobile Mega Data/Printer Cart  1564.29        13   \n",
       "9386                                          Xerox 191    79.92         4   \n",
       "9387                                         Xerox 1881    12.28         1   \n",
       "9388                    Avanti 4.4 Cu. Ft. Refrigerator   542.94         3   \n",
       "9389                          Poly String Tie Envelopes     2.04         1   \n",
       "9741  Riverside Palais Royal Lawyers Bookcase, Royal...  4404.90         5   \n",
       "\n",
       "      Discount     Profit  \n",
       "2234       0.0    67.6599  \n",
       "5274       0.0   178.8000  \n",
       "8798       0.0   336.6350  \n",
       "9146       0.0    42.9914  \n",
       "9147       0.0     2.7336  \n",
       "9148       0.0   406.7154  \n",
       "9386       0.0    37.5624  \n",
       "9387       0.0     5.7716  \n",
       "9388       0.0   152.0232  \n",
       "9389       0.0     0.9588  \n",
       "9741       0.0  1013.1270  \n",
       "\n",
       "[11 rows x 21 columns]"
      ]
     },
     "execution_count": 8,
     "metadata": {},
     "output_type": "execute_result"
    }
   ],
   "source": [
    "# Filter rows with missing values\n",
    "df[df['Postal Code'].isna()]"
   ]
  },
  {
   "attachments": {},
   "cell_type": "markdown",
   "metadata": {
    "datalore": {
     "hide_input_from_viewers": false,
     "hide_output_from_viewers": false,
     "node_id": "gE3smHLK4ysFZSF6l3S0lV",
     "report_properties": {
      "rowId": "4lV99WSs3MIZfJ8y8mJefE"
     },
     "type": "MD"
    }
   },
   "source": [
    "# Data Analysis Problem!!"
   ]
  },
  {
   "attachments": {},
   "cell_type": "markdown",
   "metadata": {
    "datalore": {
     "hide_input_from_viewers": true,
     "hide_output_from_viewers": true,
     "node_id": "2aFL2J0mJ6sICoaUHkgMZ9",
     "type": "MD"
    }
   },
   "source": [
    "## 01 - How many columns, rows in this dataset"
   ]
  },
  {
   "cell_type": "code",
   "execution_count": 9,
   "metadata": {
    "datalore": {
     "hide_input_from_viewers": false,
     "hide_output_from_viewers": false,
     "node_id": "gqKbT8yPc2ZnVi6yaNxwEq",
     "report_properties": {
      "rowId": "P4Qjkthspsp1YyOeLkropC"
     },
     "type": "CODE"
    }
   },
   "outputs": [
    {
     "name": "stdout",
     "output_type": "stream",
     "text": [
      "Number of rows is 9994 records, and Number of columns is 21 columns.\n"
     ]
    }
   ],
   "source": [
    "rows = df.shape[0]\n",
    "columns = df.shape[1]\n",
    "\n",
    "print(f\"Number of rows is {rows} records, and Number of columns is {columns} columns.\")"
   ]
  },
  {
   "attachments": {},
   "cell_type": "markdown",
   "metadata": {
    "datalore": {
     "hide_input_from_viewers": true,
     "hide_output_from_viewers": true,
     "node_id": "JZyQJ2Nle8iDned9NpgxSM",
     "type": "MD"
    }
   },
   "source": [
    "## 02 - is there any missing values?, if there is, which colunm? how many nan values?"
   ]
  },
  {
   "cell_type": "code",
   "execution_count": 10,
   "metadata": {
    "datalore": {
     "hide_input_from_viewers": false,
     "hide_output_from_viewers": false,
     "node_id": "43ljJaddtOdKGaLgWqQFiw",
     "report_properties": {
      "rowId": "UB9Wte0nPFi05ldDHy7dTr"
     },
     "type": "CODE"
    }
   },
   "outputs": [
    {
     "data": {
      "text/plain": [
       "Postal Code    11\n",
       "Row ID          0\n",
       "Discount        0\n",
       "Quantity        0\n",
       "Sales           0\n",
       "dtype: int64"
      ]
     },
     "execution_count": 10,
     "metadata": {},
     "output_type": "execute_result"
    }
   ],
   "source": [
    "missing_values = df.isna().sum().sort_values(ascending=False)\n",
    "missing_values.head()"
   ]
  },
  {
   "cell_type": "markdown",
   "metadata": {},
   "source": [
    "## 03 - your friend ask for `California` data, filter it and export csv for him"
   ]
  },
  {
   "cell_type": "code",
   "execution_count": 11,
   "metadata": {},
   "outputs": [],
   "source": [
    "df_california = df.query(\"State == 'California'\")\n",
    "df_california.to_csv(\"data/california_stores_data.csv\", index=False)"
   ]
  },
  {
   "attachments": {},
   "cell_type": "markdown",
   "metadata": {
    "datalore": {
     "hide_input_from_viewers": true,
     "hide_output_from_viewers": true,
     "node_id": "2v8LEUAAgQN826ZpMmNgVe",
     "type": "MD"
    }
   },
   "source": [
    "## 04 - your friend ask for all order data in `California` and `Texas` in 2017 (look at Order Date), send him csv file"
   ]
  },
  {
   "cell_type": "code",
   "execution_count": 24,
   "metadata": {
    "datalore": {
     "hide_input_from_viewers": false,
     "hide_output_from_viewers": false,
     "node_id": "tjYguFJssMWtE5Zad4LTVi",
     "report_properties": {
      "rowId": "VNQPffZMNmqijl9bLM5jsV"
     },
     "type": "CODE"
    }
   },
   "outputs": [
    {
     "data": {
      "text/html": [
       "<div>\n",
       "<style scoped>\n",
       "    .dataframe tbody tr th:only-of-type {\n",
       "        vertical-align: middle;\n",
       "    }\n",
       "\n",
       "    .dataframe tbody tr th {\n",
       "        vertical-align: top;\n",
       "    }\n",
       "\n",
       "    .dataframe thead th {\n",
       "        text-align: right;\n",
       "    }\n",
       "</style>\n",
       "<table border=\"1\" class=\"dataframe\">\n",
       "  <thead>\n",
       "    <tr style=\"text-align: right;\">\n",
       "      <th></th>\n",
       "      <th>Row ID</th>\n",
       "      <th>Order ID</th>\n",
       "      <th>Order Date</th>\n",
       "      <th>Ship Date</th>\n",
       "      <th>Ship Mode</th>\n",
       "      <th>Customer ID</th>\n",
       "      <th>Customer Name</th>\n",
       "      <th>Segment</th>\n",
       "      <th>Country/Region</th>\n",
       "      <th>City</th>\n",
       "      <th>...</th>\n",
       "      <th>Region</th>\n",
       "      <th>Product ID</th>\n",
       "      <th>Category</th>\n",
       "      <th>Sub-Category</th>\n",
       "      <th>Product Name</th>\n",
       "      <th>Sales</th>\n",
       "      <th>Quantity</th>\n",
       "      <th>Discount</th>\n",
       "      <th>Profit</th>\n",
       "      <th>is_late</th>\n",
       "    </tr>\n",
       "  </thead>\n",
       "  <tbody>\n",
       "    <tr>\n",
       "      <th>627</th>\n",
       "      <td>9886</td>\n",
       "      <td>CA-2017-112291</td>\n",
       "      <td>2017-04-03</td>\n",
       "      <td>2017-04-08</td>\n",
       "      <td>Standard Class</td>\n",
       "      <td>KE-16420</td>\n",
       "      <td>Katrina Edelman</td>\n",
       "      <td>Corporate</td>\n",
       "      <td>United States</td>\n",
       "      <td>Los Angeles</td>\n",
       "      <td>...</td>\n",
       "      <td>West</td>\n",
       "      <td>TEC-AC-10000736</td>\n",
       "      <td>Technology</td>\n",
       "      <td>Accessories</td>\n",
       "      <td>Logitech G600 MMO Gaming Mouse</td>\n",
       "      <td>159.980</td>\n",
       "      <td>2</td>\n",
       "      <td>0.0</td>\n",
       "      <td>57.5928</td>\n",
       "      <td>True</td>\n",
       "    </tr>\n",
       "    <tr>\n",
       "      <th>628</th>\n",
       "      <td>9904</td>\n",
       "      <td>CA-2017-122609</td>\n",
       "      <td>2017-11-12</td>\n",
       "      <td>2017-11-18</td>\n",
       "      <td>Standard Class</td>\n",
       "      <td>DP-13000</td>\n",
       "      <td>Darren Powers</td>\n",
       "      <td>Consumer</td>\n",
       "      <td>United States</td>\n",
       "      <td>Carrollton</td>\n",
       "      <td>...</td>\n",
       "      <td>Central</td>\n",
       "      <td>FUR-FU-10004587</td>\n",
       "      <td>Furniture</td>\n",
       "      <td>Furnishings</td>\n",
       "      <td>GE General Use Halogen Bulbs, 100 Watts, 1 Bul...</td>\n",
       "      <td>25.128</td>\n",
       "      <td>3</td>\n",
       "      <td>0.6</td>\n",
       "      <td>-6.9102</td>\n",
       "      <td>True</td>\n",
       "    </tr>\n",
       "    <tr>\n",
       "      <th>629</th>\n",
       "      <td>9905</td>\n",
       "      <td>CA-2017-122609</td>\n",
       "      <td>2017-11-12</td>\n",
       "      <td>2017-11-18</td>\n",
       "      <td>Standard Class</td>\n",
       "      <td>DP-13000</td>\n",
       "      <td>Darren Powers</td>\n",
       "      <td>Consumer</td>\n",
       "      <td>United States</td>\n",
       "      <td>Carrollton</td>\n",
       "      <td>...</td>\n",
       "      <td>Central</td>\n",
       "      <td>TEC-AC-10002567</td>\n",
       "      <td>Technology</td>\n",
       "      <td>Accessories</td>\n",
       "      <td>Logitech G602 Wireless Gaming Mouse</td>\n",
       "      <td>127.984</td>\n",
       "      <td>2</td>\n",
       "      <td>0.2</td>\n",
       "      <td>25.5968</td>\n",
       "      <td>True</td>\n",
       "    </tr>\n",
       "    <tr>\n",
       "      <th>630</th>\n",
       "      <td>9943</td>\n",
       "      <td>CA-2017-143371</td>\n",
       "      <td>2017-12-28</td>\n",
       "      <td>2018-01-03</td>\n",
       "      <td>Standard Class</td>\n",
       "      <td>MD-17350</td>\n",
       "      <td>Maribeth Dona</td>\n",
       "      <td>Consumer</td>\n",
       "      <td>United States</td>\n",
       "      <td>Anaheim</td>\n",
       "      <td>...</td>\n",
       "      <td>West</td>\n",
       "      <td>OFF-ST-10001128</td>\n",
       "      <td>Office Supplies</td>\n",
       "      <td>Storage</td>\n",
       "      <td>Carina Mini System Audio Rack, Model AR050B</td>\n",
       "      <td>998.820</td>\n",
       "      <td>9</td>\n",
       "      <td>0.0</td>\n",
       "      <td>29.9646</td>\n",
       "      <td>True</td>\n",
       "    </tr>\n",
       "    <tr>\n",
       "      <th>631</th>\n",
       "      <td>9944</td>\n",
       "      <td>CA-2017-143371</td>\n",
       "      <td>2017-12-28</td>\n",
       "      <td>2018-01-03</td>\n",
       "      <td>Standard Class</td>\n",
       "      <td>MD-17350</td>\n",
       "      <td>Maribeth Dona</td>\n",
       "      <td>Consumer</td>\n",
       "      <td>United States</td>\n",
       "      <td>Anaheim</td>\n",
       "      <td>...</td>\n",
       "      <td>West</td>\n",
       "      <td>OFF-SU-10002537</td>\n",
       "      <td>Office Supplies</td>\n",
       "      <td>Supplies</td>\n",
       "      <td>Acme Box Cutter Scissors</td>\n",
       "      <td>51.150</td>\n",
       "      <td>5</td>\n",
       "      <td>0.0</td>\n",
       "      <td>13.2990</td>\n",
       "      <td>True</td>\n",
       "    </tr>\n",
       "  </tbody>\n",
       "</table>\n",
       "<p>5 rows × 22 columns</p>\n",
       "</div>"
      ],
      "text/plain": [
       "     Row ID        Order ID Order Date  Ship Date       Ship Mode Customer ID  \\\n",
       "627    9886  CA-2017-112291 2017-04-03 2017-04-08  Standard Class    KE-16420   \n",
       "628    9904  CA-2017-122609 2017-11-12 2017-11-18  Standard Class    DP-13000   \n",
       "629    9905  CA-2017-122609 2017-11-12 2017-11-18  Standard Class    DP-13000   \n",
       "630    9943  CA-2017-143371 2017-12-28 2018-01-03  Standard Class    MD-17350   \n",
       "631    9944  CA-2017-143371 2017-12-28 2018-01-03  Standard Class    MD-17350   \n",
       "\n",
       "       Customer Name    Segment Country/Region         City  ...   Region  \\\n",
       "627  Katrina Edelman  Corporate  United States  Los Angeles  ...     West   \n",
       "628    Darren Powers   Consumer  United States   Carrollton  ...  Central   \n",
       "629    Darren Powers   Consumer  United States   Carrollton  ...  Central   \n",
       "630    Maribeth Dona   Consumer  United States      Anaheim  ...     West   \n",
       "631    Maribeth Dona   Consumer  United States      Anaheim  ...     West   \n",
       "\n",
       "          Product ID         Category Sub-Category  \\\n",
       "627  TEC-AC-10000736       Technology  Accessories   \n",
       "628  FUR-FU-10004587        Furniture  Furnishings   \n",
       "629  TEC-AC-10002567       Technology  Accessories   \n",
       "630  OFF-ST-10001128  Office Supplies      Storage   \n",
       "631  OFF-SU-10002537  Office Supplies     Supplies   \n",
       "\n",
       "                                          Product Name    Sales Quantity  \\\n",
       "627                     Logitech G600 MMO Gaming Mouse  159.980        2   \n",
       "628  GE General Use Halogen Bulbs, 100 Watts, 1 Bul...   25.128        3   \n",
       "629                Logitech G602 Wireless Gaming Mouse  127.984        2   \n",
       "630        Carina Mini System Audio Rack, Model AR050B  998.820        9   \n",
       "631                           Acme Box Cutter Scissors   51.150        5   \n",
       "\n",
       "     Discount   Profit  is_late  \n",
       "627       0.0  57.5928     True  \n",
       "628       0.6  -6.9102     True  \n",
       "629       0.2  25.5968     True  \n",
       "630       0.0  29.9646     True  \n",
       "631       0.0  13.2990     True  \n",
       "\n",
       "[5 rows x 22 columns]"
      ]
     },
     "execution_count": 24,
     "metadata": {},
     "output_type": "execute_result"
    }
   ],
   "source": [
    "df_filter01 = df[((df['State'] == 'California') | (df['State'] == 'Texas')) & (df['Order Date'].dt.year == 2017)]\n",
    "df_filter01.reset_index(drop=True, inplace=True)\n",
    "df_filter01.to_csv('data/California_Texas_2017_stores.csv', index=False)\n",
    "df_filter01.tail()"
   ]
  },
  {
   "attachments": {},
   "cell_type": "markdown",
   "metadata": {
    "datalore": {
     "hide_input_from_viewers": true,
     "hide_output_from_viewers": true,
     "node_id": "oGfyW0eyEKLLAApzbAwOM1",
     "type": "MD"
    }
   },
   "source": [
    "## 05 - how much total sales, average sales, and standard deviation of sales your company make in 2017"
   ]
  },
  {
   "cell_type": "code",
   "execution_count": 13,
   "metadata": {
    "datalore": {
     "hide_input_from_viewers": false,
     "hide_output_from_viewers": false,
     "node_id": "afNZPAdiGasOZaXQHvBt4S",
     "report_properties": {
      "rowId": "VMa6bk5Ar42F9QgtYPVbVr"
     },
     "type": "CODE"
    }
   },
   "outputs": [
    {
     "name": "stdout",
     "output_type": "stream",
     "text": [
      "Total sales is $484247.5\n",
      "Average sales is $242.97\n",
      "Standard Deviation of sales is $754.05\n"
     ]
    }
   ],
   "source": [
    "sales_sum_2017 = df.loc[df['Order Date'].dt.year == 2017, 'Sales'].sum()\n",
    "sales_avg_2017 = df.loc[df['Order Date'].dt.year == 2017, 'Sales'].mean()\n",
    "sales_std_2017 = df.loc[df['Order Date'].dt.year == 2017, 'Sales'].std()\n",
    "\n",
    "print(f'Total sales is ${round(sales_sum_2017, 2)}')\n",
    "print(f'Average sales is ${round(sales_avg_2017, 2)}')\n",
    "print(f'Standard Deviation of sales is ${round(sales_std_2017, 2)}')"
   ]
  },
  {
   "attachments": {},
   "cell_type": "markdown",
   "metadata": {
    "datalore": {
     "hide_input_from_viewers": true,
     "hide_output_from_viewers": true,
     "node_id": "98nisfrCcUgryrk9bp591s",
     "type": "MD"
    }
   },
   "source": [
    "## 06 - which Segment has the highest profit in 2018"
   ]
  },
  {
   "cell_type": "code",
   "execution_count": 14,
   "metadata": {
    "datalore": {
     "hide_input_from_viewers": false,
     "hide_output_from_viewers": false,
     "node_id": "RSwZY4MgMeDi3qbI6d9LxF",
     "report_properties": {
      "rowId": "Htu3oR9DGnFfDVCWe28hBA"
     },
     "type": "CODE"
    }
   },
   "outputs": [
    {
     "data": {
      "text/html": [
       "<div>\n",
       "<style scoped>\n",
       "    .dataframe tbody tr th:only-of-type {\n",
       "        vertical-align: middle;\n",
       "    }\n",
       "\n",
       "    .dataframe tbody tr th {\n",
       "        vertical-align: top;\n",
       "    }\n",
       "\n",
       "    .dataframe thead th {\n",
       "        text-align: right;\n",
       "    }\n",
       "</style>\n",
       "<table border=\"1\" class=\"dataframe\">\n",
       "  <thead>\n",
       "    <tr style=\"text-align: right;\">\n",
       "      <th></th>\n",
       "      <th>Segment</th>\n",
       "      <th>Total Profit</th>\n",
       "    </tr>\n",
       "  </thead>\n",
       "  <tbody>\n",
       "    <tr>\n",
       "      <th>0</th>\n",
       "      <td>Consumer</td>\n",
       "      <td>28460.1665</td>\n",
       "    </tr>\n",
       "  </tbody>\n",
       "</table>\n",
       "</div>"
      ],
      "text/plain": [
       "    Segment  Total Profit\n",
       "0  Consumer    28460.1665"
      ]
     },
     "execution_count": 14,
     "metadata": {},
     "output_type": "execute_result"
    }
   ],
   "source": [
    "seg_highest_profit_2018 = df[df['Order Date'].dt.year == 2018] \\\n",
    "                          .groupby('Segment')['Profit'] \\\n",
    "                          .agg(['sum']).sort_values('sum', ascending=False) \\\n",
    "                          .reset_index()\n",
    "\n",
    "seg_highest_profit_2018.columns = ['Segment', 'Total Profit']\n",
    "\n",
    "seg_highest_profit_2018.head(1)"
   ]
  },
  {
   "attachments": {},
   "cell_type": "markdown",
   "metadata": {
    "datalore": {
     "hide_input_from_viewers": true,
     "hide_output_from_viewers": true,
     "node_id": "J35pIe2k3sy0FOwYeNcxDK",
     "type": "MD"
    }
   },
   "source": [
    "## 07 - which top 5 States have the least total sales between 15 April 2019 - 31 December 2019"
   ]
  },
  {
   "cell_type": "code",
   "execution_count": 15,
   "metadata": {
    "datalore": {
     "hide_input_from_viewers": false,
     "hide_output_from_viewers": false,
     "node_id": "ZbK6dWgk6l5VzmiJWp8u5i",
     "report_properties": {
      "rowId": "iyxuDFYbx7V4sDBCJo9dm8"
     },
     "type": "CODE"
    }
   },
   "outputs": [
    {
     "data": {
      "text/html": [
       "<div>\n",
       "<style scoped>\n",
       "    .dataframe tbody tr th:only-of-type {\n",
       "        vertical-align: middle;\n",
       "    }\n",
       "\n",
       "    .dataframe tbody tr th {\n",
       "        vertical-align: top;\n",
       "    }\n",
       "\n",
       "    .dataframe thead th {\n",
       "        text-align: right;\n",
       "    }\n",
       "</style>\n",
       "<table border=\"1\" class=\"dataframe\">\n",
       "  <thead>\n",
       "    <tr style=\"text-align: right;\">\n",
       "      <th></th>\n",
       "      <th>State</th>\n",
       "      <th>sum</th>\n",
       "    </tr>\n",
       "  </thead>\n",
       "  <tbody>\n",
       "    <tr>\n",
       "      <th>0</th>\n",
       "      <td>New Hampshire</td>\n",
       "      <td>49.05</td>\n",
       "    </tr>\n",
       "    <tr>\n",
       "      <th>1</th>\n",
       "      <td>New Mexico</td>\n",
       "      <td>64.08</td>\n",
       "    </tr>\n",
       "    <tr>\n",
       "      <th>2</th>\n",
       "      <td>District of Columbia</td>\n",
       "      <td>117.07</td>\n",
       "    </tr>\n",
       "    <tr>\n",
       "      <th>3</th>\n",
       "      <td>Louisiana</td>\n",
       "      <td>249.80</td>\n",
       "    </tr>\n",
       "    <tr>\n",
       "      <th>4</th>\n",
       "      <td>South Carolina</td>\n",
       "      <td>502.48</td>\n",
       "    </tr>\n",
       "  </tbody>\n",
       "</table>\n",
       "</div>"
      ],
      "text/plain": [
       "                  State     sum\n",
       "0         New Hampshire   49.05\n",
       "1            New Mexico   64.08\n",
       "2  District of Columbia  117.07\n",
       "3             Louisiana  249.80\n",
       "4        South Carolina  502.48"
      ]
     },
     "execution_count": 15,
     "metadata": {},
     "output_type": "execute_result"
    }
   ],
   "source": [
    "df_15apr_31dec_2019 = df[(df['Order Date'] >= '2019-04-15') & (df['Order Date'] <= '2019-12-31')]\n",
    "df_15apr_31dec_2019.groupby('State')['Sales'].agg(['sum']) \\\n",
    "    .sort_values('sum', ascending=True) \\\n",
    "    .round(2).reset_index().head(5)"
   ]
  },
  {
   "attachments": {},
   "cell_type": "markdown",
   "metadata": {
    "datalore": {
     "hide_input_from_viewers": true,
     "hide_output_from_viewers": true,
     "node_id": "CxKaieUsxgGKmQn8LsAAoj",
     "type": "MD"
    }
   },
   "source": [
    "## 08 - what is the proportion of total sales (%) in West + Central in 2019 e.g. 25%"
   ]
  },
  {
   "cell_type": "code",
   "execution_count": 16,
   "metadata": {
    "datalore": {
     "hide_input_from_viewers": false,
     "hide_output_from_viewers": false,
     "node_id": "I1yP4X34OzmM2O4R4UAYSL",
     "report_properties": {
      "rowId": "qY30cn6MOBxneENhHMt6od"
     },
     "type": "CODE"
    }
   },
   "outputs": [
    {
     "data": {
      "text/html": [
       "<div>\n",
       "<style scoped>\n",
       "    .dataframe tbody tr th:only-of-type {\n",
       "        vertical-align: middle;\n",
       "    }\n",
       "\n",
       "    .dataframe tbody tr th {\n",
       "        vertical-align: top;\n",
       "    }\n",
       "\n",
       "    .dataframe thead th {\n",
       "        text-align: right;\n",
       "    }\n",
       "</style>\n",
       "<table border=\"1\" class=\"dataframe\">\n",
       "  <thead>\n",
       "    <tr style=\"text-align: right;\">\n",
       "      <th></th>\n",
       "      <th>Region</th>\n",
       "      <th>sum</th>\n",
       "      <th>%</th>\n",
       "    </tr>\n",
       "  </thead>\n",
       "  <tbody>\n",
       "    <tr>\n",
       "      <th>0</th>\n",
       "      <td>West</td>\n",
       "      <td>437609.0</td>\n",
       "      <td>59.77</td>\n",
       "    </tr>\n",
       "    <tr>\n",
       "      <th>1</th>\n",
       "      <td>Central</td>\n",
       "      <td>294528.0</td>\n",
       "      <td>40.23</td>\n",
       "    </tr>\n",
       "  </tbody>\n",
       "</table>\n",
       "</div>"
      ],
      "text/plain": [
       "    Region       sum      %\n",
       "0     West  437609.0  59.77\n",
       "1  Central  294528.0  40.23"
      ]
     },
     "execution_count": 16,
     "metadata": {},
     "output_type": "execute_result"
    }
   ],
   "source": [
    "\n",
    "proportion_sales_region = df[(df['Order Date'].dt.year >= 2019) & ((df['Region'] == 'West') | (df['Region'] == 'Central'))] \\\n",
    "    .groupby('Region')['Sales'].agg(['sum']).round().sort_values('sum', ascending=False).reset_index()\n",
    "\n",
    "proportion_sales_region['%'] = (100 * proportion_sales_region['sum'] / proportion_sales_region['sum'].sum()).round(2)\n",
    "\n",
    "proportion_sales_region"
   ]
  },
  {
   "attachments": {},
   "cell_type": "markdown",
   "metadata": {
    "datalore": {
     "hide_input_from_viewers": true,
     "hide_output_from_viewers": true,
     "node_id": "1tMbel3juehmI8l1s8KF3Q",
     "type": "MD"
    }
   },
   "source": [
    "## 09 - Find top 10 popular products in terms of number of orders vs. total sales during 2019-2020"
   ]
  },
  {
   "cell_type": "code",
   "execution_count": 17,
   "metadata": {
    "datalore": {
     "hide_input_from_viewers": false,
     "hide_output_from_viewers": false,
     "node_id": "Vzc6RNlBxwhaHwpjUZYwQc",
     "report_properties": {
      "rowId": "Cyqp9zCla2EDWWxb5Bz7pJ"
     },
     "type": "CODE"
    }
   },
   "outputs": [
    {
     "data": {
      "text/html": [
       "<div>\n",
       "<style scoped>\n",
       "    .dataframe tbody tr th:only-of-type {\n",
       "        vertical-align: middle;\n",
       "    }\n",
       "\n",
       "    .dataframe tbody tr th {\n",
       "        vertical-align: top;\n",
       "    }\n",
       "\n",
       "    .dataframe thead th {\n",
       "        text-align: right;\n",
       "    }\n",
       "</style>\n",
       "<table border=\"1\" class=\"dataframe\">\n",
       "  <thead>\n",
       "    <tr style=\"text-align: right;\">\n",
       "      <th></th>\n",
       "      <th>Product Name</th>\n",
       "      <th>count</th>\n",
       "    </tr>\n",
       "  </thead>\n",
       "  <tbody>\n",
       "    <tr>\n",
       "      <th>0</th>\n",
       "      <td>Easy-staple paper</td>\n",
       "      <td>27</td>\n",
       "    </tr>\n",
       "    <tr>\n",
       "      <th>1</th>\n",
       "      <td>Staples</td>\n",
       "      <td>24</td>\n",
       "    </tr>\n",
       "    <tr>\n",
       "      <th>2</th>\n",
       "      <td>Staple envelope</td>\n",
       "      <td>22</td>\n",
       "    </tr>\n",
       "    <tr>\n",
       "      <th>3</th>\n",
       "      <td>Staples in misc. colors</td>\n",
       "      <td>13</td>\n",
       "    </tr>\n",
       "    <tr>\n",
       "      <th>4</th>\n",
       "      <td>Staple remover</td>\n",
       "      <td>12</td>\n",
       "    </tr>\n",
       "    <tr>\n",
       "      <th>5</th>\n",
       "      <td>Storex Dura Pro Binders</td>\n",
       "      <td>12</td>\n",
       "    </tr>\n",
       "    <tr>\n",
       "      <th>6</th>\n",
       "      <td>Chromcraft Round Conference Tables</td>\n",
       "      <td>12</td>\n",
       "    </tr>\n",
       "    <tr>\n",
       "      <th>7</th>\n",
       "      <td>Global Wood Trimmed Manager's Task Chair, Khaki</td>\n",
       "      <td>11</td>\n",
       "    </tr>\n",
       "    <tr>\n",
       "      <th>8</th>\n",
       "      <td>Avery Non-Stick Binders</td>\n",
       "      <td>11</td>\n",
       "    </tr>\n",
       "    <tr>\n",
       "      <th>9</th>\n",
       "      <td>Staple-based wall hangings</td>\n",
       "      <td>10</td>\n",
       "    </tr>\n",
       "  </tbody>\n",
       "</table>\n",
       "</div>"
      ],
      "text/plain": [
       "                                      Product Name  count\n",
       "0                                Easy-staple paper     27\n",
       "1                                          Staples     24\n",
       "2                                  Staple envelope     22\n",
       "3                          Staples in misc. colors     13\n",
       "4                                   Staple remover     12\n",
       "5                          Storex Dura Pro Binders     12\n",
       "6               Chromcraft Round Conference Tables     12\n",
       "7  Global Wood Trimmed Manager's Task Chair, Khaki     11\n",
       "8                          Avery Non-Stick Binders     11\n",
       "9                       Staple-based wall hangings     10"
      ]
     },
     "execution_count": 17,
     "metadata": {},
     "output_type": "execute_result"
    }
   ],
   "source": [
    "df[df['Order Date'].dt.year >= 2019] \\\n",
    "        .groupby('Product Name')['Order Date'].agg(['count']) \\\n",
    "        .sort_values('count', ascending=False) \\\n",
    "        .reset_index().head(10)"
   ]
  },
  {
   "cell_type": "code",
   "execution_count": 18,
   "metadata": {
    "datalore": {
     "hide_input_from_viewers": true,
     "hide_output_from_viewers": true,
     "node_id": "UfsNaSUAt5gp7K4Tf4iPzs",
     "type": "CODE"
    }
   },
   "outputs": [
    {
     "data": {
      "text/html": [
       "<div>\n",
       "<style scoped>\n",
       "    .dataframe tbody tr th:only-of-type {\n",
       "        vertical-align: middle;\n",
       "    }\n",
       "\n",
       "    .dataframe tbody tr th {\n",
       "        vertical-align: top;\n",
       "    }\n",
       "\n",
       "    .dataframe thead th {\n",
       "        text-align: right;\n",
       "    }\n",
       "</style>\n",
       "<table border=\"1\" class=\"dataframe\">\n",
       "  <thead>\n",
       "    <tr style=\"text-align: right;\">\n",
       "      <th></th>\n",
       "      <th>Product Name</th>\n",
       "      <th>sum</th>\n",
       "    </tr>\n",
       "  </thead>\n",
       "  <tbody>\n",
       "    <tr>\n",
       "      <th>0</th>\n",
       "      <td>Canon imageCLASS 2200 Advanced Copier</td>\n",
       "      <td>61600.0</td>\n",
       "    </tr>\n",
       "    <tr>\n",
       "      <th>1</th>\n",
       "      <td>Hewlett Packard LaserJet 3310 Copier</td>\n",
       "      <td>16080.0</td>\n",
       "    </tr>\n",
       "    <tr>\n",
       "      <th>2</th>\n",
       "      <td>3D Systems Cube Printer, 2nd Generation, Magenta</td>\n",
       "      <td>14300.0</td>\n",
       "    </tr>\n",
       "    <tr>\n",
       "      <th>3</th>\n",
       "      <td>GBC Ibimaster 500 Manual ProClick Binding System</td>\n",
       "      <td>13622.0</td>\n",
       "    </tr>\n",
       "    <tr>\n",
       "      <th>4</th>\n",
       "      <td>GBC DocuBind TL300 Electric Binding System</td>\n",
       "      <td>12737.0</td>\n",
       "    </tr>\n",
       "    <tr>\n",
       "      <th>5</th>\n",
       "      <td>GBC DocuBind P400 Electric Binding System</td>\n",
       "      <td>12521.0</td>\n",
       "    </tr>\n",
       "    <tr>\n",
       "      <th>6</th>\n",
       "      <td>Samsung Galaxy Mega 6.3</td>\n",
       "      <td>12264.0</td>\n",
       "    </tr>\n",
       "    <tr>\n",
       "      <th>7</th>\n",
       "      <td>HON 5400 Series Task Chairs for Big and Tall</td>\n",
       "      <td>11847.0</td>\n",
       "    </tr>\n",
       "    <tr>\n",
       "      <th>8</th>\n",
       "      <td>Martin Yale Chadless Opener Electric Letter Op...</td>\n",
       "      <td>11826.0</td>\n",
       "    </tr>\n",
       "    <tr>\n",
       "      <th>9</th>\n",
       "      <td>Global Troy Executive Leather Low-Back Tilter</td>\n",
       "      <td>10170.0</td>\n",
       "    </tr>\n",
       "  </tbody>\n",
       "</table>\n",
       "</div>"
      ],
      "text/plain": [
       "                                        Product Name      sum\n",
       "0              Canon imageCLASS 2200 Advanced Copier  61600.0\n",
       "1               Hewlett Packard LaserJet 3310 Copier  16080.0\n",
       "2   3D Systems Cube Printer, 2nd Generation, Magenta  14300.0\n",
       "3   GBC Ibimaster 500 Manual ProClick Binding System  13622.0\n",
       "4         GBC DocuBind TL300 Electric Binding System  12737.0\n",
       "5          GBC DocuBind P400 Electric Binding System  12521.0\n",
       "6                            Samsung Galaxy Mega 6.3  12264.0\n",
       "7       HON 5400 Series Task Chairs for Big and Tall  11847.0\n",
       "8  Martin Yale Chadless Opener Electric Letter Op...  11826.0\n",
       "9      Global Troy Executive Leather Low-Back Tilter  10170.0"
      ]
     },
     "execution_count": 18,
     "metadata": {},
     "output_type": "execute_result"
    }
   ],
   "source": [
    "df[df['Order Date'].dt.year >= 2019] \\\n",
    "        .groupby('Product Name')['Sales'].agg(['sum']).round() \\\n",
    "        .sort_values('sum', ascending=False) \\\n",
    "        .reset_index().head(10)"
   ]
  },
  {
   "attachments": {},
   "cell_type": "markdown",
   "metadata": {
    "datalore": {
     "hide_input_from_viewers": true,
     "hide_output_from_viewers": true,
     "node_id": "Q0qf2kcImBUSwnXOVPaDqa",
     "type": "MD"
    }
   },
   "source": [
    "## 10 - plot 3 plots"
   ]
  },
  {
   "cell_type": "code",
   "execution_count": 19,
   "metadata": {
    "datalore": {
     "hide_input_from_viewers": true,
     "hide_output_from_viewers": true,
     "node_id": "qJgXOyNJoi2oJtwfgosWqa",
     "type": "CODE"
    }
   },
   "outputs": [
    {
     "data": {
      "image/png": "[encoded data removed]",
      "text/plain": [
       "<Figure size 640x480 with 1 Axes>"
      ]
     },
     "metadata": {},
     "output_type": "display_data"
    }
   ],
   "source": [
    "df['Sales'].plot(kind='hist', bins=20, color=\"orange\");"
   ]
  },
  {
   "cell_type": "code",
   "execution_count": 20,
   "metadata": {
    "datalore": {
     "hide_input_from_viewers": true,
     "hide_output_from_viewers": true,
     "node_id": "jQxrHq85nUYsfJC8ba6EVS",
     "type": "CODE"
    }
   },
   "outputs": [
    {
     "data": {
      "image/png": "[encoded data removed]",
      "text/plain": [
       "<Figure size 640x480 with 1 Axes>"
      ]
     },
     "metadata": {},
     "output_type": "display_data"
    }
   ],
   "source": [
    "df['Profit'].plot(kind='hist', bins=20, color=\"blue\");"
   ]
  },
  {
   "cell_type": "code",
   "execution_count": 21,
   "metadata": {
    "datalore": {
     "hide_input_from_viewers": false,
     "hide_output_from_viewers": false,
     "node_id": "j9Jwbxi3qx9WzDSF0hsOih",
     "report_properties": {
      "rowId": "nQ0rZ2OfRcHFruXpPJCNI4"
     },
     "type": "CODE"
    }
   },
   "outputs": [
    {
     "data": {
      "image/png": "[encoded data removed]",
      "text/plain": [
       "<Figure size 640x480 with 1 Axes>"
      ]
     },
     "metadata": {},
     "output_type": "display_data"
    }
   ],
   "source": [
    "df.groupby('Sub-Category')['Profit'].agg(['sum']).sort_values('sum', ascending=False) \\\n",
    "\t\t.plot(kind=\"bar\", color=\"salmon\", title=\"Profit by Sub-Category\");"
   ]
  },
  {
   "attachments": {},
   "cell_type": "markdown",
   "metadata": {
    "datalore": {
     "hide_input_from_viewers": true,
     "hide_output_from_viewers": true,
     "node_id": "dHOVmUCvpo6njH7RQ7h9Cb",
     "type": "MD"
    }
   },
   "source": [
    "## 11 - use np.where() to create new column in dataframe to help you answer your own questions"
   ]
  },
  {
   "cell_type": "code",
   "execution_count": 22,
   "metadata": {
    "datalore": {
     "hide_input_from_viewers": false,
     "hide_output_from_viewers": false,
     "node_id": "0jBYWGTlV783HJJcjCRoPC",
     "report_properties": {
      "rowId": "ey3E3E5Yu8clHTdNrgxZW7"
     },
     "type": "CODE"
    }
   },
   "outputs": [
    {
     "data": {
      "text/html": [
       "<div>\n",
       "<style scoped>\n",
       "    .dataframe tbody tr th:only-of-type {\n",
       "        vertical-align: middle;\n",
       "    }\n",
       "\n",
       "    .dataframe tbody tr th {\n",
       "        vertical-align: top;\n",
       "    }\n",
       "\n",
       "    .dataframe thead th {\n",
       "        text-align: right;\n",
       "    }\n",
       "</style>\n",
       "<table border=\"1\" class=\"dataframe\">\n",
       "  <thead>\n",
       "    <tr style=\"text-align: right;\">\n",
       "      <th></th>\n",
       "      <th>Order Date</th>\n",
       "      <th>Ship Date</th>\n",
       "      <th>is_late</th>\n",
       "    </tr>\n",
       "  </thead>\n",
       "  <tbody>\n",
       "    <tr>\n",
       "      <th>0</th>\n",
       "      <td>2019-11-08</td>\n",
       "      <td>2019-11-11</td>\n",
       "      <td>False</td>\n",
       "    </tr>\n",
       "    <tr>\n",
       "      <th>1</th>\n",
       "      <td>2019-11-08</td>\n",
       "      <td>2019-11-11</td>\n",
       "      <td>False</td>\n",
       "    </tr>\n",
       "    <tr>\n",
       "      <th>2</th>\n",
       "      <td>2019-06-12</td>\n",
       "      <td>2019-06-16</td>\n",
       "      <td>True</td>\n",
       "    </tr>\n",
       "    <tr>\n",
       "      <th>3</th>\n",
       "      <td>2018-10-11</td>\n",
       "      <td>2018-10-18</td>\n",
       "      <td>True</td>\n",
       "    </tr>\n",
       "    <tr>\n",
       "      <th>4</th>\n",
       "      <td>2018-10-11</td>\n",
       "      <td>2018-10-18</td>\n",
       "      <td>True</td>\n",
       "    </tr>\n",
       "    <tr>\n",
       "      <th>...</th>\n",
       "      <td>...</td>\n",
       "      <td>...</td>\n",
       "      <td>...</td>\n",
       "    </tr>\n",
       "    <tr>\n",
       "      <th>9989</th>\n",
       "      <td>2017-01-21</td>\n",
       "      <td>2017-01-23</td>\n",
       "      <td>False</td>\n",
       "    </tr>\n",
       "    <tr>\n",
       "      <th>9990</th>\n",
       "      <td>2020-02-26</td>\n",
       "      <td>2020-03-03</td>\n",
       "      <td>True</td>\n",
       "    </tr>\n",
       "    <tr>\n",
       "      <th>9991</th>\n",
       "      <td>2020-02-26</td>\n",
       "      <td>2020-03-03</td>\n",
       "      <td>True</td>\n",
       "    </tr>\n",
       "    <tr>\n",
       "      <th>9992</th>\n",
       "      <td>2020-02-26</td>\n",
       "      <td>2020-03-03</td>\n",
       "      <td>True</td>\n",
       "    </tr>\n",
       "    <tr>\n",
       "      <th>9993</th>\n",
       "      <td>2020-05-04</td>\n",
       "      <td>2020-05-09</td>\n",
       "      <td>True</td>\n",
       "    </tr>\n",
       "  </tbody>\n",
       "</table>\n",
       "<p>9994 rows × 3 columns</p>\n",
       "</div>"
      ],
      "text/plain": [
       "     Order Date  Ship Date  is_late\n",
       "0    2019-11-08 2019-11-11    False\n",
       "1    2019-11-08 2019-11-11    False\n",
       "2    2019-06-12 2019-06-16     True\n",
       "3    2018-10-11 2018-10-18     True\n",
       "4    2018-10-11 2018-10-18     True\n",
       "...         ...        ...      ...\n",
       "9989 2017-01-21 2017-01-23    False\n",
       "9990 2020-02-26 2020-03-03     True\n",
       "9991 2020-02-26 2020-03-03     True\n",
       "9992 2020-02-26 2020-03-03     True\n",
       "9993 2020-05-04 2020-05-09     True\n",
       "\n",
       "[9994 rows x 3 columns]"
      ]
     },
     "execution_count": 22,
     "metadata": {},
     "output_type": "execute_result"
    }
   ],
   "source": [
    "# TODO Bonus - use np.where() to create new column in dataframe to help you answer your own questions\n",
    "df['is_late'] = np.where((df['Ship Date'] - df['Order Date']).dt.days > 3, True, False)\n",
    "df[['Order Date', 'Ship Date', 'is_late']]"
   ]
  },
  {
   "cell_type": "code",
   "execution_count": 23,
   "metadata": {
    "datalore": {
     "hide_input_from_viewers": true,
     "hide_output_from_viewers": true,
     "node_id": "3VwrJvLiz5bYPzJiMGTVUh",
     "type": "CODE"
    }
   },
   "outputs": [
    {
     "data": {
      "text/html": [
       "<div>\n",
       "<style scoped>\n",
       "    .dataframe tbody tr th:only-of-type {\n",
       "        vertical-align: middle;\n",
       "    }\n",
       "\n",
       "    .dataframe tbody tr th {\n",
       "        vertical-align: top;\n",
       "    }\n",
       "\n",
       "    .dataframe thead th {\n",
       "        text-align: right;\n",
       "    }\n",
       "</style>\n",
       "<table border=\"1\" class=\"dataframe\">\n",
       "  <thead>\n",
       "    <tr style=\"text-align: right;\">\n",
       "      <th></th>\n",
       "      <th>is_late</th>\n",
       "      <th>count</th>\n",
       "    </tr>\n",
       "  </thead>\n",
       "  <tbody>\n",
       "    <tr>\n",
       "      <th>0</th>\n",
       "      <td>True</td>\n",
       "      <td>6766</td>\n",
       "    </tr>\n",
       "    <tr>\n",
       "      <th>1</th>\n",
       "      <td>False</td>\n",
       "      <td>3228</td>\n",
       "    </tr>\n",
       "  </tbody>\n",
       "</table>\n",
       "</div>"
      ],
      "text/plain": [
       "   is_late  count\n",
       "0     True   6766\n",
       "1    False   3228"
      ]
     },
     "execution_count": 23,
     "metadata": {},
     "output_type": "execute_result"
    }
   ],
   "source": [
    "df['is_late'].value_counts().reset_index()"
   ]
  }
 ],
 "metadata": {
  "datalore": {
   "base_environment": "default",
   "computation_mode": "JUPYTER",
   "package_manager": "pip",
   "packages": [],
   "report_row_ids": [
    "r0bh7XpW2PETFMLwY4UWu9",
    "DJSP6JwZHjIZEEmqUKHKmJ",
    "KIoIDRFLNetXd0kmDaLke5",
    "404bRHx2yHPcb627BGFnGZ",
    "WwHhMQRPqNr5KZLvOFjLet",
    "bifgaR9eDRqC7rV3IdnV7n",
    "e0yT2z3bGhaUQsTcWTLi5E",
    "BlhHwMmuvn69NwH28sZP8K",
    "CtXbNrKg9BrSTG8ZAgiZ9K",
    "vPQYQUyAJ3tPPH6M8evZdf",
    "QO7ZQKJz8xDL7cJOhHLUjC",
    "4lV99WSs3MIZfJ8y8mJefE",
    "P4Qjkthspsp1YyOeLkropC",
    "UB9Wte0nPFi05ldDHy7dTr",
    "mAAXMgdvZz7GXbz81A29vL",
    "VNQPffZMNmqijl9bLM5jsV",
    "VMa6bk5Ar42F9QgtYPVbVr",
    "Htu3oR9DGnFfDVCWe28hBA",
    "iyxuDFYbx7V4sDBCJo9dm8",
    "qY30cn6MOBxneENhHMt6od",
    "Cyqp9zCla2EDWWxb5Bz7pJ",
    "nQ0rZ2OfRcHFruXpPJCNI4",
    "ey3E3E5Yu8clHTdNrgxZW7"
   ],
   "version": 3
  },
  "kernelspec": {
   "display_name": "base",
   "language": "python",
   "name": "python3"
  },
  "language_info": {
   "codemirror_mode": {
    "name": "ipython",
    "version": 3
   },
   "file_extension": ".py",
   "mimetype": "text/x-python",
   "name": "python",
   "nbconvert_exporter": "python",
   "pygments_lexer": "ipython3",
   "version": "3.11.5"
  }
 },
 "nbformat": 4,
 "nbformat_minor": 4
}
