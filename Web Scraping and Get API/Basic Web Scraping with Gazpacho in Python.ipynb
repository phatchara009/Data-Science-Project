{
 "cells": [
  {
   "attachments": {},
   "cell_type": "markdown",
   "metadata": {
    "datalore": {
     "hide_input_from_viewers": false,
     "hide_output_from_viewers": false,
     "node_id": "Code Base",
     "sheet_delimiter": true,
     "type": "MD"
    }
   },
   "source": [
    "# Code Base"
   ]
  },
  {
   "cell_type": "code",
   "execution_count": 4,
   "metadata": {
    "datalore": {
     "hide_input_from_viewers": false,
     "hide_output_from_viewers": false,
     "node_id": "R5NLXALdVC7yDEuW4VABge",
     "report_properties": {
      "relativeY": 0,
      "rowId": "6iwfRJ1zSc7mVsLN3ZtUUG"
     },
     "type": "CODE"
    }
   },
   "outputs": [],
   "source": [
    "# # install gazpacho on our machine\n",
    "# !pip install gazpacho"
   ]
  },
  {
   "attachments": {},
   "cell_type": "markdown",
   "metadata": {
    "datalore": {
     "hide_input_from_viewers": false,
     "hide_output_from_viewers": false,
     "node_id": "niXF2CLFy8vRWLfTmsGOh6",
     "report_properties": {
      "relativeY": 0,
      "rowId": "FrRZA3XDPelIg3xzCVtd2E"
     },
     "type": "MD"
    }
   },
   "source": [
    "## Import Libraries"
   ]
  },
  {
   "cell_type": "code",
   "execution_count": 1,
   "metadata": {
    "datalore": {
     "hide_input_from_viewers": false,
     "hide_output_from_viewers": false,
     "node_id": "V2kn6Z743iASGULyqvHga2",
     "report_properties": {
      "relativeY": 0,
      "rowId": "7bUydcnHahsTzwxnVEqHdk"
     },
     "type": "CODE"
    }
   },
   "outputs": [],
   "source": [
    "# import library\n",
    "import requests \n",
    "import gazpacho as gz"
   ]
  },
  {
   "cell_type": "code",
   "execution_count": 2,
   "metadata": {
    "datalore": {
     "hide_input_from_viewers": false,
     "hide_output_from_viewers": false,
     "node_id": "ElfThtlQeXTTjy9wpeE9ff",
     "report_properties": {
      "relativeY": 0,
      "rowId": "OVPIDKfMaEv2Mn0WiuIRGj"
     },
     "type": "CODE"
    }
   },
   "outputs": [],
   "source": [
    "# skooldio medium website\n",
    "url = \"https://medium.com/skooldio\""
   ]
  },
  {
   "attachments": {},
   "cell_type": "markdown",
   "metadata": {
    "datalore": {
     "hide_input_from_viewers": false,
     "hide_output_from_viewers": false,
     "node_id": "E3yWf0bfyfze3TChgCbnLI",
     "report_properties": {
      "relativeY": 0,
      "rowId": "XinqUrGovimD701NBaHb5Q"
     },
     "type": "MD"
    }
   },
   "source": [
    "## Medium Website\n",
    "\n",
    "You can check the website, right click and `inspect` the content."
   ]
  },
  {
   "cell_type": "code",
   "execution_count": 3,
   "metadata": {
    "datalore": {
     "hide_input_from_viewers": false,
     "hide_output_from_viewers": false,
     "node_id": "IlEZvhhscapcB2p0QJYIAg",
     "report_properties": {
      "relativeY": 0,
      "rowId": "ulpQwh0QUy6IvP0QNZLop8"
     },
     "type": "CODE"
    }
   },
   "outputs": [
    {
     "name": "stdout",
     "output_type": "stream",
     "text": [
      "200\n"
     ]
    }
   ],
   "source": [
    "# request content from medium\n",
    "response = requests.get(url)\n",
    "\n",
    "print(response.status_code)"
   ]
  },
  {
   "cell_type": "code",
   "execution_count": null,
   "metadata": {},
   "outputs": [],
   "source": [
    "web = gz.Soup(response.text)"
   ]
  },
  {
   "cell_type": "code",
   "execution_count": null,
   "metadata": {
    "datalore": {
     "hide_input_from_viewers": false,
     "hide_output_from_viewers": false,
     "node_id": "TAeHlJNFkIoiiOdlvXUPsO",
     "report_properties": {
      "relativeY": 0,
      "rowId": "iDuAUGaMavZUGIU991H3c9"
     },
     "type": "CODE"
    }
   },
   "outputs": [
    {
     "data": {
      "text/plain": [
       "<h1 class=\"collectionHeader-name js-collectionName u-foreground u-baseColor--textDark u-paddingBottom4 u-lineHeightTightest u-contentSansBold u-fontSize40 u-xs-fontSize32\">Skooldio</h1>"
      ]
     },
     "metadata": {},
     "output_type": "display_data"
    }
   ],
   "source": [
    "# find the element you want\n",
    "web.find(\"h1\")"
   ]
  },
  {
   "attachments": {},
   "cell_type": "markdown",
   "metadata": {
    "datalore": {
     "hide_input_from_viewers": false,
     "hide_output_from_viewers": false,
     "node_id": "Wb5J5R0wzlItmrCIDs06H5",
     "report_properties": {
      "relativeY": 0,
      "rowId": "h5qdECV0zbhjyuWtDQTy5l"
     },
     "type": "MD"
    }
   },
   "source": [
    "We use `strip()` to remove all the html tags."
   ]
  },
  {
   "cell_type": "code",
   "execution_count": null,
   "metadata": {
    "datalore": {
     "hide_input_from_viewers": false,
     "hide_output_from_viewers": false,
     "node_id": "4mnA59nvCABbgljd4w854E",
     "report_properties": {
      "relativeY": 0,
      "rowId": "0zQd6wdxEfLiA9tAEmLNDy"
     },
     "type": "CODE"
    }
   },
   "outputs": [
    {
     "data": {
      "text/plain": [
       "'Skooldio'"
      ]
     },
     "metadata": {},
     "output_type": "display_data"
    }
   ],
   "source": [
    "# the heading 1 content\n",
    "web.find(\"h1\").strip()"
   ]
  },
  {
   "cell_type": "code",
   "execution_count": null,
   "metadata": {
    "datalore": {
     "hide_input_from_viewers": false,
     "hide_output_from_viewers": false,
     "node_id": "of3CqQlJbXW8K7ZZFo7VmJ",
     "report_properties": {
      "relativeY": 0,
      "rowId": "qigtRJVFlHjoZbdugdJAyE"
     },
     "type": "CODE"
    }
   },
   "outputs": [
    {
     "data": {
      "text/plain": [
       "'สคูลดิโอ… สตูดิโอของคนอยากอัพสกิล'"
      ]
     },
     "metadata": {},
     "output_type": "display_data"
    }
   ],
   "source": [
    "# the heading 2 content\n",
    "web.find(\"h2\").strip()"
   ]
  },
  {
   "attachments": {},
   "cell_type": "markdown",
   "metadata": {
    "datalore": {
     "hide_input_from_viewers": false,
     "hide_output_from_viewers": false,
     "node_id": "I4sQTDCfZJgXlzZXJa9KS5",
     "report_properties": {
      "relativeY": 0,
      "rowId": "4Nzu4fGhkXvTX8fkIlJZIL"
     },
     "type": "MD"
    }
   },
   "source": [
    "Using `for` loop to clean the article titles"
   ]
  },
  {
   "cell_type": "code",
   "execution_count": null,
   "metadata": {
    "datalore": {
     "hide_input_from_viewers": false,
     "hide_output_from_viewers": false,
     "node_id": "tIpAbi7pVdv4admzQ6a3Um",
     "report_properties": {
      "relativeY": 0,
      "rowId": "9LnysLHICmxNjaWIUNOWbe"
     },
     "type": "CODE"
    }
   },
   "outputs": [
    {
     "name": "stdout",
     "output_type": "stream",
     "text": [
      "หาข้อมูลช่วยพัฒนา LINE OA ของเราได้จากที่ไหนบ้าง?\n",
      "NPS Score คืออะไร? ใช้วัดความพึงพอใจของลูกค้าได้อย่างไรบ้าง?\n",
      "Decoding Good Metrics\n",
      "ปลดล็อกความคิดสร้างสรรค์: เปลี่ยนการประชุมธรรมดาให้ทรงพลังด้วยเทคนิคจาก Design Sprint\n",
      "Bet on the Best Features: Why Product Managers Should Think Like Casino Gamblers\n",
      "เมื่อผมอนุญาตให้นักศึกษาใช้ ChatGPT ทำ Data Science Proficiency Test …\n",
      "เป็น Software Engineer ที่ Skooldio ทำอะไรกันบ้าง?\n",
      "Skooldio’s 2022 Best Nine\n",
      "4 เรื่องที่ควรมองหาในการทำงาน นอกจากเรื่องเงินเดือน\n",
      "SEO มันจะอะไรกันนักหนา — Part 1: “รู้ตัว”\n",
      "Skooldio Tutorials – Tech at Skooldio\n",
      "ลูกน้องคุณกล้าดื้อแค่ไหน?\n",
      "รู้จัก Intl — Built-in JavaScript ที่มาแทน Moment.js และเป็นได้มากกว่าแค่เรื่องเวลา !\n",
      "ขับเคลื่อนการเปลี่ยนแปลงในองค์กรของคุณอย่างไรให้ประสบความสำเร็จ?\n",
      "คุณเป็นผู้นำที่สร้าง Trust ได้ดีแค่ไหน?\n",
      "จงหมกมุ่นกับลูกค้า…ไม่ใช่คู่แข่ง\n",
      "Skooldio’s 2020 Best Nine\n",
      "Data-Driven พารุ่งหรือพาร่วง?\n",
      "พูดกันจัง Digital Transformation\n",
      "เศรษฐศาสตร์ / Developer / Product Manager ข้ามสามสายเพื่อได้มาลงตัวที่นี่\n",
      "อยากทำ ≠ ควรทำ\n",
      "เคล็ดลับการทำธุรกิจแบบกวิ้นๆ\n",
      "การย้ายงานจาก Corporate ไป Startup ปีที่ 2 (ภาค 3) โอกาสเป็นเรื่องของความน่าจะเป็น\n",
      "ค้นคว้า ออกแบบ ทดสอบ… กว่าจะออกมาเป็น Skooldio Live Remote Workshop\n",
      "ทดลองออกแบบ UX Writing ให้คนกดคลิกด้วย Framing Effect\n",
      "ไม่ใช่ทุกคอร์สที่เราทำออกมาแล้วจะปัง\n",
      "Skooldio’s 2019 Best Nine\n",
      "เก็บตก Line Developer Day 2019 — ฉบับ Data Science และ AI (Part 1)\n",
      "เก็บตก Line Developer Day 2019 — ฉบับ Data Science และ AI\n",
      "เมื่อผมต้องเป็นหนึ่งในกรรมการตัดสินผลงานในเว็บ awwwards.\n",
      "Growth 10X as an Intern @Skooldio\n",
      "Recap: ‘Design = Code, Bridging the Design and Development Gap with Webflow’\n"
     ]
    }
   ],
   "source": [
    "# the heading 3 content\n",
    "for title in web.find(\"h3\"):\n",
    "    print(title.strip())"
   ]
  },
  {
   "cell_type": "code",
   "execution_count": null,
   "metadata": {
    "datalore": {
     "hide_input_from_viewers": true,
     "hide_output_from_viewers": true,
     "node_id": "ZcVMmN9iw4MRTQIrkzykui",
     "type": "CODE"
    }
   },
   "outputs": [],
   "source": []
  }
 ],
 "metadata": {
  "datalore": {
   "base_environment": "default",
   "computation_mode": "JUPYTER",
   "package_manager": "pip",
   "packages": [],
   "report_row_ids": [
    "6iwfRJ1zSc7mVsLN3ZtUUG",
    "FrRZA3XDPelIg3xzCVtd2E",
    "7bUydcnHahsTzwxnVEqHdk",
    "OVPIDKfMaEv2Mn0WiuIRGj",
    "XinqUrGovimD701NBaHb5Q",
    "ulpQwh0QUy6IvP0QNZLop8",
    "iDuAUGaMavZUGIU991H3c9",
    "h5qdECV0zbhjyuWtDQTy5l",
    "0zQd6wdxEfLiA9tAEmLNDy",
    "qigtRJVFlHjoZbdugdJAyE",
    "4Nzu4fGhkXvTX8fkIlJZIL",
    "9LnysLHICmxNjaWIUNOWbe"
   ],
   "version": 3
  },
  "kernelspec": {
   "display_name": "base",
   "language": "python",
   "name": "python3"
  },
  "language_info": {
   "codemirror_mode": {
    "name": "ipython",
    "version": 3
   },
   "file_extension": ".py",
   "mimetype": "text/x-python",
   "name": "python",
   "nbconvert_exporter": "python",
   "pygments_lexer": "ipython3",
   "version": "3.11.5"
  }
 },
 "nbformat": 4,
 "nbformat_minor": 4
}
